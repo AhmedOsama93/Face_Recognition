{
 "cells": [
  {
   "cell_type": "code",
   "execution_count": 83,
   "id": "1c31fe09",
   "metadata": {},
   "outputs": [],
   "source": [
    "from skimage.metrics import structural_similarity as ssim\n",
    "import matplotlib.pyplot as plt\n",
    "import numpy as np\n",
    "import pandas as pd\n",
    "import matplotlib.pyplot as plt\n",
    "from matplotlib.pyplot import imread\n",
    "from sklearn.decomposition import PCA\n",
    "import matplotlib.image as mpimg\n",
    "from skimage import color\n",
    "from skimage import io\n",
    "from PIL import Image\n",
    "import os\n",
    "import PIL\n",
    "import glob\n",
    "from numpy import asarray\n",
    "import cv2\n",
    "import pickle"
   ]
  },
  {
   "cell_type": "code",
   "execution_count": 84,
   "id": "f73dfafe",
   "metadata": {},
   "outputs": [],
   "source": [
    "#convert images to gray scale\n",
    "def convert2gray(imgName):\n",
    "    r, g, b = imgName[:,:,0], imgName[:,:,1], imgName[:,:,2]\n",
    "    imgGray = 0.2989 * r + 0.5870 * g + 0.1140 * b\n",
    "    return imgGray"
   ]
  },
  {
   "cell_type": "code",
   "execution_count": 85,
   "id": "69235281",
   "metadata": {},
   "outputs": [],
   "source": [
    "#PCA for test image\n",
    "def transform(image):\n",
    "    filename = 'finalized_model.sav'\n",
    "    image_pca=pickle.load(open(filename, 'rb'))\n",
    "    transformed = image_pca.transform(image)\n",
    "    return transformed\n"
   ]
  },
  {
   "cell_type": "code",
   "execution_count": 86,
   "id": "a1cbc3e9",
   "metadata": {},
   "outputs": [],
   "source": [
    "#mean \n",
    "def mse(imageA, imageB):\n",
    "    err = np.sum((imageA.astype(\"float\") - imageB.astype(\"float\")) ** 2)\n",
    "    err /= float(imageA.shape[0] * imageA.shape[1])\n",
    "    return err"
   ]
  },
  {
   "cell_type": "code",
   "execution_count": 87,
   "id": "6feaf0bd",
   "metadata": {},
   "outputs": [],
   "source": [
    "def check(image, threeImg):\n",
    "    mx=0\n",
    "    for i in range(3):\n",
    "        m=mse(image, threeImg[i])\n",
    "        if m > mx :\n",
    "            mx=m\n",
    "    return mx    "
   ]
  },
  {
   "cell_type": "code",
   "execution_count": 100,
   "id": "64c4817c",
   "metadata": {},
   "outputs": [],
   "source": [
    "from PIL import Image\n",
    "import os\n",
    "filename1=\"1.jpeg\"\n",
    "filename2=\"2.jpeg\"\n",
    "filename3=\"3.jpeg\"\n",
    "filename4=\"4.jpeg\"\n",
    "filename_1=\"5.jpeg\"\n",
    "filename_2=\"6.jpeg\"\n",
    "filename_3=\"7.jpeg\"\n",
    "filename_4=\"8.jpeg\"\n",
    "\n",
    "image1 = Image.open(filename1)\n",
    "image2 = Image.open(filename2)\n",
    "image3 = Image.open(filename3)\n",
    "image4 = Image.open(filename4)\n",
    "image_1 = Image.open(filename_1)\n",
    "image_2 = Image.open(filename_2)\n",
    "image_3 = Image.open(filename_3)\n",
    "image_4 = Image.open(filename_4)\n"
   ]
  },
  {
   "cell_type": "code",
   "execution_count": 101,
   "id": "9bb324fa",
   "metadata": {},
   "outputs": [
    {
     "data": {
      "text/plain": [
       "False"
      ]
     },
     "execution_count": 101,
     "metadata": {},
     "output_type": "execute_result"
    }
   ],
   "source": [
    "def test_face(image, threeImgs):\n",
    "        \n",
    "        #Gray Images\n",
    "        \n",
    "        image=convert2gray(asarray(image))\n",
    "        img1=convert2gray(asarray(threeImgs[0]))\n",
    "        img2=convert2gray(asarray(threeImgs[1]))\n",
    "        img3=convert2gray(asarray(threeImgs[2]))\n",
    "        \n",
    "        #resize Images\n",
    "        image=cv2.resize(image,(243,320))\n",
    "        \n",
    "        img1=cv2.resize(img1,(243,320))\n",
    "        img2=cv2.resize(img2,(243,320))\n",
    "        img3=cv2.resize(img3,(243,320))\n",
    "        \n",
    "        \n",
    "        image=asarray(image).ravel()\n",
    "        img1=asarray(img1).ravel()\n",
    "        img2=asarray(img2).ravel()\n",
    "        img3=asarray(img3).ravel()\n",
    "        \n",
    "        \n",
    "        #transform Images\n",
    "        \n",
    "        image=transform(image[np.newaxis,:])\n",
    "        img1=transform(img1[np.newaxis,:])\n",
    "        img2=transform(img2[np.newaxis,:])\n",
    "        img3=transform(img3[np.newaxis,:])\n",
    "        \n",
    "        #max Mean square error\n",
    "        value=check(image,(img1,img2,img3))\n",
    "        \n",
    "        if value > 150000:\n",
    "            return False\n",
    "        else :\n",
    "            return True\n",
    "        \n",
    "x = test_face(image1,[image_2,image_3,image_4])\n",
    "x"
   ]
  },
  {
   "cell_type": "code",
   "execution_count": null,
   "id": "3011a0ea",
   "metadata": {},
   "outputs": [],
   "source": []
  },
  {
   "cell_type": "code",
   "execution_count": null,
   "id": "4227cb58",
   "metadata": {},
   "outputs": [],
   "source": []
  }
 ],
 "metadata": {
  "kernelspec": {
   "display_name": "Python 3 (ipykernel)",
   "language": "python",
   "name": "python3"
  },
  "language_info": {
   "codemirror_mode": {
    "name": "ipython",
    "version": 3
   },
   "file_extension": ".py",
   "mimetype": "text/x-python",
   "name": "python",
   "nbconvert_exporter": "python",
   "pygments_lexer": "ipython3",
   "version": "3.9.7"
  }
 },
 "nbformat": 4,
 "nbformat_minor": 5
}
